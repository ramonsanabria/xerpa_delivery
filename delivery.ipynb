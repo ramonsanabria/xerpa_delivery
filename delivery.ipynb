{
 "cells": [
  {
   "cell_type": "code",
   "execution_count": 141,
   "metadata": {},
   "outputs": [
    {
     "name": "stdout",
     "output_type": "stream",
     "text": [
      "{0: (10, 9), 1: (2, 9), 2: (7, 8), 3: (8, 3), 4: (6, 10), 5: (2, 6), 6: (10, 5), 7: (7, 0), 8: (5, 4), 9: (2, 3)}\n"
     ]
    }
   ],
   "source": [
    "import itertools\n",
    "import math\n",
    "\n",
    "#total number of restaurants\n",
    "NUM_RESTAURANTS = 10\n",
    "\n",
    "#dictionary with restaurants \n",
    "#key: restaurant id\n",
    "#value: coordinates\n",
    "restaurants = {restaurant_id : (random.randint(0, 10), random.randint(0, 10)) for restaurant_id in range(NUM_RESTAURANTS)}\n",
    "\n",
    "#compute the distance between two restaurants\n",
    "#agrs:\n",
    "#     point_a: coordinates of point a\n",
    "#     point_b: coordinates of point b\n",
    "#RETURN: distance between point a and point b\n",
    "def compute_distance(point_a, point_b):\n",
    "    x1,y1 = point_a\n",
    "    x2,y2 = point_b\n",
    "\n",
    "    return math.sqrt((x2 - x1)**2 + (y2 - y1)**2)  \n",
    "\n",
    "print(restaurants)"
   ]
  },
  {
   "cell_type": "code",
   "execution_count": 170,
   "metadata": {},
   "outputs": [
    {
     "name": "stdout",
     "output_type": "stream",
     "text": [
      "[(('0*7', '1*5'), 7.810249675906654), (('0*7', '2*6'), 5.830951894845301), (('0*7', '3*8'), 4.47213595499958), (('0*7', '4*1'), 10.295630140987), (('0*7', '5*3'), 3.1622776601683795), (('0*7', '6*5'), 7.810249675906654), (('0*7', '7*8'), 4.47213595499958), (('0*7', '8*6'), 5.830951894845301), (('0*7', '9*9'), 5.830951894845301), (('1*5', '0*7'), 7.810249675906654), (('1*5', '2*6'), 8.06225774829855), (('1*5', '3*8'), 3.605551275463989), (('1*5', '4*1'), 3.0), (('1*5', '5*3'), 6.708203932499369), (('1*5', '6*5'), 0.0), (('1*5', '7*8'), 3.605551275463989), (('1*5', '8*6'), 8.06225774829855), (('1*5', '9*9'), 3.0), (('2*6', '0*7'), 5.830951894845301), (('2*6', '1*5'), 8.06225774829855), (('2*6', '3*8'), 5.0990195135927845), (('2*6', '4*1'), 8.94427190999916), (('2*6', '5*3'), 2.8284271247461903), (('2*6', '6*5'), 8.06225774829855), (('2*6', '7*8'), 5.0990195135927845), (('2*6', '8*6'), 0.0), (('2*6', '9*9'), 8.246211251235321), (('3*8', '0*7'), 4.47213595499958), (('3*8', '1*5'), 3.605551275463989), (('3*8', '2*6'), 5.0990195135927845), (('3*8', '4*1'), 5.830951894845301), (('3*8', '5*3'), 3.1622776601683795), (('3*8', '6*5'), 3.605551275463989), (('3*8', '7*8'), 0.0), (('3*8', '8*6'), 5.0990195135927845), (('3*8', '9*9'), 3.1622776601683795), (('4*1', '0*7'), 10.295630140987), (('4*1', '1*5'), 3.0), (('4*1', '2*6'), 8.94427190999916), (('4*1', '3*8'), 5.830951894845301), (('4*1', '5*3'), 8.48528137423857), (('4*1', '6*5'), 3.0), (('4*1', '7*8'), 5.830951894845301), (('4*1', '8*6'), 8.94427190999916), (('4*1', '9*9'), 6.0), (('5*3', '0*7'), 3.1622776601683795), (('5*3', '1*5'), 6.708203932499369), (('5*3', '2*6'), 2.8284271247461903), (('5*3', '3*8'), 3.1622776601683795), (('5*3', '4*1'), 8.48528137423857), (('5*3', '6*5'), 6.708203932499369), (('5*3', '7*8'), 3.1622776601683795), (('5*3', '8*6'), 2.8284271247461903), (('5*3', '9*9'), 6.0), (('6*5', '0*7'), 7.810249675906654), (('6*5', '1*5'), 0.0), (('6*5', '2*6'), 8.06225774829855), (('6*5', '3*8'), 3.605551275463989), (('6*5', '4*1'), 3.0), (('6*5', '5*3'), 6.708203932499369), (('6*5', '7*8'), 3.605551275463989), (('6*5', '8*6'), 8.06225774829855), (('6*5', '9*9'), 3.0), (('7*8', '0*7'), 4.47213595499958), (('7*8', '1*5'), 3.605551275463989), (('7*8', '2*6'), 5.0990195135927845), (('7*8', '3*8'), 0.0), (('7*8', '4*1'), 5.830951894845301), (('7*8', '5*3'), 3.1622776601683795), (('7*8', '6*5'), 3.605551275463989), (('7*8', '8*6'), 5.0990195135927845), (('7*8', '9*9'), 3.1622776601683795), (('8*6', '0*7'), 5.830951894845301), (('8*6', '1*5'), 8.06225774829855), (('8*6', '2*6'), 0.0), (('8*6', '3*8'), 5.0990195135927845), (('8*6', '4*1'), 8.94427190999916), (('8*6', '5*3'), 2.8284271247461903), (('8*6', '6*5'), 8.06225774829855), (('8*6', '7*8'), 5.0990195135927845), (('8*6', '9*9'), 8.246211251235321), (('9*9', '0*7'), 5.830951894845301), (('9*9', '1*5'), 3.0), (('9*9', '2*6'), 8.246211251235321), (('9*9', '3*8'), 3.1622776601683795), (('9*9', '4*1'), 6.0), (('9*9', '5*3'), 6.0), (('9*9', '6*5'), 3.0), (('9*9', '7*8'), 3.1622776601683795), (('9*9', '8*6'), 8.246211251235321)]\n"
     ]
    }
   ],
   "source": [
    "#compute distances of all possible trips with two possible stops (not taking into account users yet)\n",
    "#agrs:\n",
    "#     request_list: dict with request to restaurants (no final user yet)\n",
    "#RETURN: all restaurant combination and its costs (i.e. trips)\n",
    "def compute_all_combination(request_dict, maximum_trips = 2):\n",
    "    \n",
    "    # list all restarurants for each client\n",
    "    restaurantsc_id = [\"{}*{}\".format(key, request_dict[key]) for key in request_dict.keys()]\n",
    "    \n",
    "    # all possible trips with two stops\n",
    "    # there are repeated trips i.e. (mc_donalds, kfc) and (kfc, mc_donals) becasue this will affect who should get the order\n",
    "    combinations = [(x,y) for x,y in itertools.product(restaurantsc_id, repeat=maximum_trips) if x!=y]\n",
    "    \n",
    "    all_comb_dist = []\n",
    "\n",
    "    for combination in combinations:\n",
    "        rest_coord_1 = restaurants[int(combination[0].split(\"*\")[1])]\n",
    "        rest_coord_2 = restaurants[int(combination[1].split(\"*\")[1])]\n",
    "\n",
    "        distance = compute_distance(rest_coord_1,rest_coord_2)\n",
    "        all_comb_dist.append((combination, distance))\n",
    "    \n",
    "    return all_comb_dist\n",
    "\n",
    "NUM_REQUESTS = 10\n",
    "\n",
    "#dictionary with requests\n",
    "#request: request id\n",
    "#value: restaurant\n",
    "requests = {request_id : (random.randint(0, NUM_RESTAURANTS-1)) for request_id in range(NUM_REQUESTS)}\n",
    "\n",
    "trips = compute_all_combination(requests)\n",
    "\n",
    "print(trips)\n"
   ]
  },
  {
   "cell_type": "code",
   "execution_count": 171,
   "metadata": {},
   "outputs": [
    {
     "name": "stdout",
     "output_type": "stream",
     "text": [
      "driver 0 goes to ['8*6', '2*6']\n",
      "driver 1 goes to ['2*6', '8*6']\n",
      "driver 2 goes to ['1*5', '6*5']\n",
      "all requests\n",
      "{0: 7, 1: 5, 2: 6, 3: 8, 4: 1, 5: 3, 6: 5, 7: 8, 8: 6, 9: 9}\n",
      "[0 1 2]\n",
      "[74 25 14]\n"
     ]
    }
   ],
   "source": [
    "from munkres import Munkres, print_matrix\n",
    "from scipy.optimize import linear_sum_assignment\n",
    "\n",
    "#use this example: http://software.clapper.org/munkres/\n",
    "\n",
    "import random\n",
    "\n",
    "\n",
    "NUM_DRIVERS = 3\n",
    "\n",
    "#dictionary with delivery_driver\n",
    "#key: driver id\n",
    "#value: coordinates\n",
    "drivers = {driver_id : (random.randint(0, 10), random.randint(0, 10)) for driver_id in range(NUM_DRIVERS)}\n",
    "\n",
    "\n",
    "#create cost matrix where y_axis are drivers x_axis are trips\n",
    "#agrs:\n",
    "#     trips: all possible trips\n",
    "#RETURN: a matrix (i.e. list of lists) [NUM_DRIVERS,NUM_TRIPS]\n",
    "def create_matrix(drivers, trips):\n",
    "    \n",
    "    #drivers id\n",
    "    drivers_ids = [driver for driver in drivers]\n",
    "    \n",
    "    #we assign an id to each trip by concatenating both restaurants\n",
    "    trips_ids = ['%'.join(trip[0]) for trip in trips]   \n",
    "    \n",
    "    driver_restaruants_matrix = []\n",
    "    for driver_id in drivers.keys():\n",
    "        row = []\n",
    "        for trip in trips:\n",
    "\n",
    "            #get name of first restaurant of the trip (i.e. first stop)\n",
    "            first_restaurant = trip[0][0].split(\"*\")[0]\n",
    "            \n",
    "            #cost from driver to first restaruant\n",
    "            cost_d2r = compute_distance(drivers[driver_id], restaurants[int(first_restaurant)])\n",
    "            \n",
    "            #cost all travel around all restaurants \n",
    "            cost_rall = trip[1]\n",
    "            \n",
    "            #TODO\n",
    "            cost_final_clinet = 0\n",
    "            \n",
    "            cost_total = cost_d2r + cost_rall + cost_final_clinet\n",
    "            \n",
    "            row.append(cost_total)\n",
    "            \n",
    "        driver_restaruants_matrix.append(row)\n",
    "    \n",
    "    return drivers_ids, trips_ids, driver_restaruants_matrix\n",
    "\n",
    "    \n",
    "drivers_ids, trips_ids, cost_matrix = create_matrix(drivers, trips)\n",
    "\n",
    "#optimize matrix (i.e. Hungarian algorithm)\n",
    "m = Munkres()\n",
    "indexes = m.compute(cost_matrix)\n",
    "\n",
    "\n",
    "total=0\n",
    "for row, column in indexes:\n",
    "    value = cost_matrix[row][column]\n",
    "    total += value\n",
    "    #print(f'({row}, {column}) -> {value}')\n",
    "    print(\"driver {} goes to {}\".format(drivers_ids[row], trips_ids[column].split(\"%\")))\n",
    "    \n",
    "print(\"all requests\")\n",
    "print(requests)\n",
    "\n",
    "row_ind, col_ind = linear_sum_assignment(cost_matrix)\n",
    "\n",
    "print(row_ind)\n",
    "print(col_ind)\n"
   ]
  },
  {
   "cell_type": "code",
   "execution_count": null,
   "metadata": {},
   "outputs": [],
   "source": [
    "#PROBLEMS:\n",
    "# the duplicate trick will not work, because the end point of the first worker will make it inconsistent\n",
    "# the hack of multiple trips seems to be working, but we need to check a better solution eventually"
   ]
  },
  {
   "cell_type": "code",
   "execution_count": 83,
   "metadata": {},
   "outputs": [],
   "source": [
    "#things TODO\n",
    "# - take client into account (this is when we compute all taks with requests is the combination)\n",
    "#     - we can increase the complexity by adding drops and picks combinations\n",
    "#     - this can be done easily with itertools\n",
    "# - try to do this offline to improve speed"
   ]
  },
  {
   "cell_type": "code",
   "execution_count": null,
   "metadata": {},
   "outputs": [],
   "source": []
  }
 ],
 "metadata": {
  "kernelspec": {
   "display_name": "Python 3",
   "language": "python",
   "name": "python3"
  },
  "language_info": {
   "codemirror_mode": {
    "name": "ipython",
    "version": 3
   },
   "file_extension": ".py",
   "mimetype": "text/x-python",
   "name": "python",
   "nbconvert_exporter": "python",
   "pygments_lexer": "ipython3",
   "version": "3.7.3"
  }
 },
 "nbformat": 4,
 "nbformat_minor": 4
}
