{
 "cells": [
  {
   "cell_type": "code",
   "execution_count": 188,
   "metadata": {},
   "outputs": [
    {
     "name": "stdout",
     "output_type": "stream",
     "text": [
      "{0: (0, 4), 1: (6, 9), 2: (4, 7), 3: (7, 5), 4: (6, 1), 5: (8, 2), 6: (3, 4), 7: (6, 2), 8: (6, 5), 9: (7, 2)}\n"
     ]
    }
   ],
   "source": [
    "#generate random number of restaurants\n",
    "\n",
    "import itertools\n",
    "import math\n",
    "import random\n",
    "\n",
    "\n",
    "NUM_RESTAURANTS = 10\n",
    "\n",
    "#dictionary with restaurants \n",
    "#key: restaurant id\n",
    "#value: coordinates\n",
    "restaurants = {restaurant_id : (random.randint(0, 10), random.randint(0, 10)) for restaurant_id in range(NUM_RESTAURANTS)}\n",
    "\n",
    "print(restaurants)"
   ]
  },
  {
   "cell_type": "code",
   "execution_count": 189,
   "metadata": {},
   "outputs": [
    {
     "name": "stdout",
     "output_type": "stream",
     "text": [
      "{0: 8, 1: 7, 2: 8, 3: 4, 4: 6, 5: 7, 6: 3, 7: 2, 8: 2, 9: 4, 10: 8, 11: 0, 12: 3, 13: 9, 14: 2, 15: 3, 16: 2, 17: 8, 18: 5, 19: 1, 20: 4, 21: 8, 22: 3, 23: 0, 24: 2, 25: 4, 26: 8, 27: 8, 28: 5, 29: 9, 30: 8, 31: 9, 32: 3, 33: 7, 34: 7, 35: 3, 36: 8, 37: 0, 38: 6, 39: 4, 40: 4, 41: 5, 42: 5, 43: 8, 44: 7, 45: 9, 46: 8, 47: 7, 48: 1, 49: 3, 50: 5, 51: 9, 52: 0, 53: 6, 54: 5, 55: 2, 56: 2, 57: 3, 58: 2, 59: 3, 60: 1, 61: 7, 62: 6, 63: 7, 64: 2, 65: 5, 66: 9, 67: 7, 68: 0, 69: 0, 70: 5, 71: 7, 72: 7, 73: 6, 74: 8, 75: 4, 76: 2, 77: 4, 78: 2, 79: 9, 80: 3, 81: 0, 82: 6, 83: 3, 84: 2, 85: 4, 86: 3, 87: 5, 88: 9, 89: 5, 90: 2, 91: 2, 92: 4, 93: 5, 94: 0, 95: 5, 96: 3, 97: 4, 98: 3, 99: 8}\n"
     ]
    }
   ],
   "source": [
    "#generate random number of requests\n",
    "\n",
    "NUM_REQUESTS = 100\n",
    "\n",
    "#dictionary with requests\n",
    "#key: request id\n",
    "#value: restaurant\n",
    "requests = {request_id : (random.randint(0, NUM_RESTAURANTS-1)) for request_id in range(NUM_REQUESTS)}\n",
    "\n",
    "print(requests)"
   ]
  },
  {
   "cell_type": "code",
   "execution_count": 190,
   "metadata": {},
   "outputs": [
    {
     "name": "stdout",
     "output_type": "stream",
     "text": [
      "{0: (3, 0), 1: (1, 6), 2: (8, 10), 3: (0, 10), 4: (8, 4), 5: (4, 6), 6: (1, 7), 7: (1, 1), 8: (1, 8), 9: (7, 2), 10: (3, 5), 11: (9, 8), 12: (2, 3), 13: (9, 1), 14: (3, 9), 15: (6, 9), 16: (0, 2), 17: (8, 0), 18: (9, 8), 19: (6, 10), 20: (6, 6), 21: (10, 2), 22: (6, 0), 23: (1, 8), 24: (9, 4), 25: (9, 10), 26: (9, 10), 27: (8, 4), 28: (8, 1), 29: (4, 7), 30: (4, 5), 31: (0, 3), 32: (10, 10), 33: (9, 9), 34: (6, 4), 35: (2, 2), 36: (4, 2), 37: (7, 1), 38: (3, 0), 39: (10, 1), 40: (3, 4), 41: (2, 10), 42: (1, 7), 43: (7, 8), 44: (1, 5), 45: (8, 9), 46: (4, 6), 47: (1, 6), 48: (10, 4), 49: (7, 2), 50: (0, 10), 51: (6, 2), 52: (8, 2), 53: (8, 3), 54: (8, 3), 55: (6, 1), 56: (5, 6), 57: (10, 2), 58: (2, 6), 59: (6, 0)}\n"
     ]
    }
   ],
   "source": [
    "#generate random number of drivers\n",
    "\n",
    "NUM_DRIVERS = 60\n",
    "\n",
    "#dictionary with delivery_driver\n",
    "#key: driver id\n",
    "#value: coordinates\n",
    "drivers = {driver_id : (random.randint(0, 10), random.randint(0, 10)) for driver_id in range(NUM_DRIVERS)}\n",
    "\n",
    "print(drivers)"
   ]
  },
  {
   "cell_type": "code",
   "execution_count": 194,
   "metadata": {},
   "outputs": [
    {
     "name": "stdout",
     "output_type": "stream",
     "text": [
      "driver 0 goes to 3\n",
      "driver 1 goes to 11\n",
      "driver 2 goes to 19\n",
      "driver 3 goes to 7\n",
      "driver 4 goes to 86\n",
      "driver 5 goes to 8\n",
      "driver 6 goes to 14\n",
      "driver 7 goes to 94\n",
      "driver 8 goes to 16\n",
      "driver 9 goes to 13\n",
      "driver 10 goes to 4\n",
      "driver 11 goes to 6\n",
      "driver 12 goes to 38\n",
      "driver 13 goes to 93\n",
      "driver 14 goes to 24\n",
      "driver 15 goes to 60\n",
      "driver 16 goes to 37\n",
      "driver 17 goes to 28\n",
      "driver 18 goes to 22\n",
      "driver 19 goes to 48\n",
      "driver 20 goes to 99\n",
      "driver 21 goes to 41\n",
      "driver 22 goes to 92\n",
      "driver 23 goes to 55\n",
      "driver 24 goes to 95\n",
      "driver 25 goes to 98\n",
      "driver 26 goes to 96\n",
      "driver 27 goes to 12\n",
      "driver 28 goes to 42\n",
      "driver 29 goes to 56\n",
      "driver 30 goes to 53\n",
      "driver 31 goes to 52\n",
      "driver 32 goes to 49\n",
      "driver 33 goes to 15\n",
      "driver 34 goes to 2\n",
      "driver 35 goes to 62\n",
      "driver 36 goes to 1\n",
      "driver 37 goes to 97\n",
      "driver 38 goes to 25\n",
      "driver 39 goes to 18\n",
      "driver 40 goes to 73\n",
      "driver 41 goes to 58\n",
      "driver 42 goes to 64\n",
      "driver 43 goes to 59\n",
      "driver 44 goes to 68\n",
      "driver 45 goes to 57\n",
      "driver 46 goes to 76\n",
      "driver 47 goes to 69\n",
      "driver 48 goes to 50\n",
      "driver 49 goes to 29\n",
      "driver 50 goes to 78\n",
      "driver 51 goes to 5\n",
      "driver 52 goes to 65\n",
      "driver 53 goes to 70\n",
      "driver 54 goes to 87\n",
      "driver 55 goes to 39\n",
      "driver 56 goes to 0\n",
      "driver 57 goes to 89\n",
      "driver 58 goes to 82\n",
      "driver 59 goes to 9\n",
      "total cost: 124.44103109832155\n",
      "computation time:  0.1272260190016823  seconds\n"
     ]
    }
   ],
   "source": [
    "#run hungarian algorithm and get best driver-request assignment\n",
    "#here an example for the hungarian algorithm: http://software.clapper.org/munkres/\n",
    "import timeit\n",
    "from munkres import Munkres, print_matrix\n",
    "from scipy.optimize import linear_sum_assignment\n",
    "\n",
    "\n",
    "#compute the distance between two restaurants\n",
    "#agrs:\n",
    "#     point_a: coordinates of point a\n",
    "#     point_b: coordinates of point b\n",
    "#RETURN: distance between point a and point b\n",
    "def compute_distance(point_a, point_b):\n",
    "    x1,y1 = point_a\n",
    "    x2,y2 = point_b\n",
    "\n",
    "    return math.sqrt((x2 - x1)**2 + (y2 - y1)**2)  \n",
    "\n",
    "#create cost matrix where y_axis are drivers x_axis are trips\n",
    "#agrs:\n",
    "#     trips: all possible trips\n",
    "#RETURN: a matrix (i.e. list of lists) [NUM_DRIVERS,NUM_TRIPS]\n",
    "def create_matrix(drivers, requests):\n",
    "    \n",
    "    #drivers id\n",
    "    drivers_ids = [driver for driver in drivers.keys()]\n",
    "    \n",
    "    #we assign an id to each trip by concatenating \n",
    "    requests_ids = [request for request in requests.keys()]   \n",
    "    \n",
    "    \n",
    "    driver_restaruants_matrix = []\n",
    "    for driver_id in drivers_ids:\n",
    "        row = []\n",
    "        for request_id in requests_ids:\n",
    "            \n",
    "            #cost from driver to first restaruant\n",
    "            cost_d2r = compute_distance(drivers[driver_id], restaurants[int(requests[request_id])])\n",
    "            \n",
    "            #TODO here we should add the distance from restaurant to client\n",
    "            #for this example it should not matter\n",
    "            #we will add this in the next example where requests can be (1-2)\n",
    "            cost_final_clinet = 0\n",
    "            \n",
    "            cost_total = cost_d2r + cost_final_clinet\n",
    "            \n",
    "            row.append(cost_total)\n",
    "            \n",
    "        driver_restaruants_matrix.append(row)\n",
    "    \n",
    "    return drivers_ids, requests_ids, driver_restaruants_matrix\n",
    "\n",
    "    \n",
    "drivers_ids, trips_ids, cost_matrix = create_matrix(drivers, requests)\n",
    "\n",
    "#optimize matrix (i.e. Hungarian algorithm)\n",
    "m = Munkres()\n",
    "\n",
    "\n",
    "\n",
    "#start time\n",
    "start = timeit.default_timer()\n",
    "\n",
    "indexes = m.compute(cost_matrix)\n",
    "\n",
    "#end time\n",
    "stop = timeit.default_timer()\n",
    "\n",
    "total=0\n",
    "for row, column in indexes:\n",
    "    value = cost_matrix[row][column]\n",
    "    total += value\n",
    "    print(\"driver {} goes to {}\".format(drivers_ids[row], trips_ids[column]))\n",
    "    \n",
    "print(\"total cost: \"+str(total))\n",
    "print('computation time: ', stop - start,' seconds')  \n"
   ]
  },
  {
   "cell_type": "code",
   "execution_count": 196,
   "metadata": {},
   "outputs": [
    {
     "name": "stdout",
     "output_type": "stream",
     "text": [
      "driver 0 goes to 0\n",
      "driver 1 goes to 1\n",
      "driver 2 goes to 2\n",
      "total cost: 3\n",
      "computation time:  0.00013806299830321223  seconds\n"
     ]
    }
   ],
   "source": [
    "#toy example to play with\n",
    "\n",
    "cost_matrix = [[1,10000,10000],[10000,1,10000],[10000,1000,1]] #total cost should be 3, and result a diagonal\n",
    "#start time\n",
    "start = timeit.default_timer()\n",
    "\n",
    "indexes = m.compute(cost_matrix)\n",
    "\n",
    "#end time\n",
    "stop = timeit.default_timer()\n",
    "\n",
    "total=0\n",
    "for row, column in indexes:\n",
    "    value = cost_matrix[row][column]\n",
    "    total += value\n",
    "    print(\"driver {} goes to {}\".format(drivers_ids[row], trips_ids[column])) \n",
    "\n",
    "print(\"total cost: \"+str(total))\n",
    "print('computation time: ', stop - start,' seconds')  "
   ]
  },
  {
   "cell_type": "code",
   "execution_count": null,
   "metadata": {},
   "outputs": [],
   "source": []
  }
 ],
 "metadata": {
  "kernelspec": {
   "display_name": "Python 3",
   "language": "python",
   "name": "python3"
  },
  "language_info": {
   "codemirror_mode": {
    "name": "ipython",
    "version": 3
   },
   "file_extension": ".py",
   "mimetype": "text/x-python",
   "name": "python",
   "nbconvert_exporter": "python",
   "pygments_lexer": "ipython3",
   "version": "3.7.3"
  }
 },
 "nbformat": 4,
 "nbformat_minor": 4
}
