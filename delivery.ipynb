{
 "cells": [
  {
   "cell_type": "code",
   "execution_count": 173,
   "metadata": {},
   "outputs": [
    {
     "name": "stdout",
     "output_type": "stream",
     "text": [
      "{0: (10, 7), 1: (6, 0), 2: (1, 2), 3: (1, 10), 4: (8, 9), 5: (8, 5), 6: (7, 8), 7: (8, 7), 8: (1, 1), 9: (3, 6)}\n"
     ]
    }
   ],
   "source": [
    "#generate random number of restaurants\n",
    "\n",
    "import itertools\n",
    "import math\n",
    "import random\n",
    "\n",
    "\n",
    "NUM_RESTAURANTS = 10\n",
    "\n",
    "#dictionary with restaurants \n",
    "#key: restaurant id\n",
    "#value: coordinates\n",
    "restaurants = {restaurant_id : (random.randint(0, 10), random.randint(0, 10)) for restaurant_id in range(NUM_RESTAURANTS)}\n",
    "\n",
    "print(restaurants)"
   ]
  },
  {
   "cell_type": "code",
   "execution_count": 174,
   "metadata": {},
   "outputs": [
    {
     "name": "stdout",
     "output_type": "stream",
     "text": [
      "{0: 2, 1: 6, 2: 2, 3: 2, 4: 8, 5: 1, 6: 2, 7: 9, 8: 1, 9: 9}\n"
     ]
    }
   ],
   "source": [
    "#generate random number of requests\n",
    "\n",
    "NUM_REQUESTS = 10\n",
    "\n",
    "#dictionary with requests\n",
    "#request: request id\n",
    "#value: restaurant\n",
    "requests = {request_id : (random.randint(0, NUM_RESTAURANTS-1)) for request_id in range(NUM_REQUESTS)}\n",
    "\n",
    "print(requests)"
   ]
  },
  {
   "cell_type": "code",
   "execution_count": 176,
   "metadata": {},
   "outputs": [
    {
     "name": "stdout",
     "output_type": "stream",
     "text": [
      "{0: (8, 2), 1: (5, 8), 2: (9, 0)}\n"
     ]
    }
   ],
   "source": [
    "#generate random number of drivers\n",
    "\n",
    "NUM_DRIVERS = 3\n",
    "\n",
    "#dictionary with delivery_driver\n",
    "#key: driver id\n",
    "#value: coordinates\n",
    "drivers = {driver_id : (random.randint(0, 10), random.randint(0, 10)) for driver_id in range(NUM_DRIVERS)}\n",
    "\n",
    "print(drivers)"
   ]
  },
  {
   "cell_type": "code",
   "execution_count": 186,
   "metadata": {},
   "outputs": [
    {
     "name": "stdout",
     "output_type": "stream",
     "text": [
      "driver 0 goes to 5\n",
      "driver 1 goes to 1\n",
      "driver 2 goes to 8\n",
      "total cost: 7.82842712474619\n"
     ]
    }
   ],
   "source": [
    "#run hungarian algorithm and get best driver-request assignment\n",
    "#here an example for the hungarian algorithm: http://software.clapper.org/munkres/\n",
    "\n",
    "from munkres import Munkres, print_matrix\n",
    "from scipy.optimize import linear_sum_assignment\n",
    "\n",
    "\n",
    "#compute the distance between two restaurants\n",
    "#agrs:\n",
    "#     point_a: coordinates of point a\n",
    "#     point_b: coordinates of point b\n",
    "#RETURN: distance between point a and point b\n",
    "def compute_distance(point_a, point_b):\n",
    "    x1,y1 = point_a\n",
    "    x2,y2 = point_b\n",
    "\n",
    "    return math.sqrt((x2 - x1)**2 + (y2 - y1)**2)  \n",
    "\n",
    "#create cost matrix where y_axis are drivers x_axis are trips\n",
    "#agrs:\n",
    "#     trips: all possible trips\n",
    "#RETURN: a matrix (i.e. list of lists) [NUM_DRIVERS,NUM_TRIPS]\n",
    "def create_matrix(drivers, requests):\n",
    "    \n",
    "    #drivers id\n",
    "    drivers_ids = [driver for driver in drivers.keys()]\n",
    "    \n",
    "    #we assign an id to each trip by concatenating \n",
    "    requests_ids = [request for request in requests.keys()]   \n",
    "    \n",
    "    \n",
    "    driver_restaruants_matrix = []\n",
    "    for driver_id in drivers_ids:\n",
    "        row = []\n",
    "        for request_id in requests_ids:\n",
    "            \n",
    "            #cost from driver to first restaruant\n",
    "            cost_d2r = compute_distance(drivers[driver_id], restaurants[int(requests[request_id])])\n",
    "            \n",
    "            #TODO here we should add the distance from restaurant to client\n",
    "            #for this example it should not matter\n",
    "            #we will add this in the next example where requests can be (1-2)\n",
    "            cost_final_clinet = 0\n",
    "            \n",
    "            cost_total = cost_d2r + cost_final_clinet\n",
    "            \n",
    "            row.append(cost_total)\n",
    "            \n",
    "        driver_restaruants_matrix.append(row)\n",
    "    \n",
    "    return drivers_ids, requests_ids, driver_restaruants_matrix\n",
    "\n",
    "    \n",
    "drivers_ids, trips_ids, cost_matrix = create_matrix(drivers, requests)\n",
    "\n",
    "#optimize matrix (i.e. Hungarian algorithm)\n",
    "m = Munkres()\n",
    "indexes = m.compute(cost_matrix)\n",
    "\n",
    "\n",
    "total=0\n",
    "for row, column in indexes:\n",
    "    value = cost_matrix[row][column]\n",
    "    total += value\n",
    "    print(\"driver {} goes to {}\".format(drivers_ids[row], trips_ids[column]))\n",
    "    \n",
    "print(\"total cost: \"+str(total))\n"
   ]
  },
  {
   "cell_type": "code",
   "execution_count": 187,
   "metadata": {},
   "outputs": [
    {
     "name": "stdout",
     "output_type": "stream",
     "text": [
      "driver 0 goes to 0\n",
      "driver 1 goes to 1\n",
      "driver 2 goes to 2\n",
      "total cost: 3\n"
     ]
    }
   ],
   "source": [
    "#toy example to play with\n",
    "\n",
    "cost_matrix = [[1,10000,10000],[10000,1,10000],[10000,1000,1]] #total cost should be 3, and result a simple diagonal\n",
    "indexes = m.compute(cost_matrix)\n",
    "\n",
    "total=0\n",
    "for row, column in indexes:\n",
    "    value = cost_matrix[row][column]\n",
    "    total += value\n",
    "    print(\"driver {} goes to {}\".format(drivers_ids[row], trips_ids[column])) \n",
    "\n",
    "print(\"total cost: \"+str(total))"
   ]
  }
 ],
 "metadata": {
  "kernelspec": {
   "display_name": "Python 3",
   "language": "python",
   "name": "python3"
  },
  "language_info": {
   "codemirror_mode": {
    "name": "ipython",
    "version": 3
   },
   "file_extension": ".py",
   "mimetype": "text/x-python",
   "name": "python",
   "nbconvert_exporter": "python",
   "pygments_lexer": "ipython3",
   "version": "3.7.3"
  }
 },
 "nbformat": 4,
 "nbformat_minor": 4
}
